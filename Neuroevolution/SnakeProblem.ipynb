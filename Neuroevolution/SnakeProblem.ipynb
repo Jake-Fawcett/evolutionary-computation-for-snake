{
 "cells": [
  {
   "cell_type": "markdown",
   "source": [
    "This version of the snake game allows you to implement and run your evolutionary algorithm"
   ],
   "metadata": {}
  },
  {
   "cell_type": "code",
   "execution_count": null,
   "source": [
    "import random\r\n",
    "import time\r\n",
    "import turtle"
   ],
   "outputs": [],
   "metadata": {}
  },
  {
   "cell_type": "code",
   "execution_count": null,
   "source": [
    "XSIZE = YSIZE = 16 # Number of grid cells in each direction (do not change this)"
   ],
   "outputs": [],
   "metadata": {}
  },
  {
   "cell_type": "markdown",
   "source": [
    "Change headless to True when evolving your solution. You can then pickle your final solution, and run it with this set to True to visualize the result, if you wish. Note that, when using Turtle,  to run it again properly you might need to go to restart your kernel after the visualization has finished."
   ],
   "metadata": {}
  },
  {
   "cell_type": "markdown",
   "source": [
    "If you are running on the cloud, or on Google Colab, you can chose to remove the turtle and display code altogether and only run headless. You could then pickle your best solution and use this code to see it play."
   ],
   "metadata": {}
  },
  {
   "cell_type": "code",
   "execution_count": null,
   "source": [
    "HEADLESS = True"
   ],
   "outputs": [],
   "metadata": {}
  },
  {
   "cell_type": "code",
   "execution_count": null,
   "source": [
    "class DisplayGame:\r\n",
    "    def __init__(self, XSIZE, YSIZE):\r\n",
    "        # SCREEN\r\n",
    "        self.win = turtle.Screen()\r\n",
    "        self.win.title(\"EVCO Snake game\")\r\n",
    "        self.win.bgcolor(\"grey\")\r\n",
    "        self.win.setup(width=(XSIZE*20)+40,height=(YSIZE*20)+40)\r\n",
    "        #self.win.screensize((XSIZE*20)+20,(YSIZE*20)+20)\r\n",
    "        self.win.tracer(0)\r\n",
    "\r\n",
    "        #Snake Head\r\n",
    "        self.head = turtle.Turtle()\r\n",
    "        self.head.shape(\"square\")\r\n",
    "        self.head.color(\"black\")\r\n",
    "\r\n",
    "        # Snake food\r\n",
    "        self.food = turtle.Turtle()\r\n",
    "        self.food.shape(\"circle\")\r\n",
    "        self.food.color(\"yellow\")\r\n",
    "        self.food.penup()\r\n",
    "        self.food.shapesize(0.55, 0.55)\r\n",
    "        self.segments = []\r\n",
    "\r\n",
    "    def reset(self, snake):\r\n",
    "        self.segments = []\r\n",
    "        self.head.penup()\r\n",
    "        self.food.goto(-500, -500)\r\n",
    "        self.head.goto(-500, -500)\r\n",
    "        for i in range(len(snake)-1):\r\n",
    "            self.add_snake_segment()\r\n",
    "        self.update_segment_positions(snake)\r\n",
    "       \r\n",
    "    def update_food(self,new_food):\r\n",
    "        self.food.goto(((new_food[1]-9)*20)+20, (((9-new_food[0])*20)-10)-20)\r\n",
    "        \r\n",
    "    def update_segment_positions(self, snake):\r\n",
    "        self.head.goto(((snake[0][1]-9)*20)+20, (((9-snake[0][0])*20)-10)-20)\r\n",
    "        for i in range(len(self.segments)):\r\n",
    "            self.segments[i].goto(((snake[i+1][1]-9)*20)+20, (((9-snake[i+1][0])*20)-10)-20)\r\n",
    "\r\n",
    "    def add_snake_segment(self):\r\n",
    "        self.new_segment = turtle.Turtle()\r\n",
    "        self.new_segment.speed(0)\r\n",
    "        self.new_segment.shape(\"square\")\r\n",
    "        self.new_segment.color(random.choice([\"green\",'black','red','blue']))\r\n",
    "        self.new_segment.penup()\r\n",
    "        self.segments.append(self.new_segment)"
   ],
   "outputs": [],
   "metadata": {}
  },
  {
   "cell_type": "code",
   "execution_count": null,
   "source": [
    "class snake:\r\n",
    "    def __init__(self, _XSIZE, _YSIZE):\r\n",
    "        self.XSIZE = _XSIZE\r\n",
    "        self.YSIZE = _YSIZE\r\n",
    "        self.reset()\r\n",
    "\r\n",
    "    def reset(self):\r\n",
    "        self.snake = [[8,10], [8,9], [8,8], [8,7], [8,6], [8,5], [8,4], [8,3], [8,2], [8,1], [8,0]] # Initial snake co-ordinates [ypos,xpos]    \r\n",
    "        self.food = self.place_food()\r\n",
    "        self.up = []\r\n",
    "        self.down = []\r\n",
    "        self.left = []\r\n",
    "        self.right = []\r\n",
    "        self.snake_direction = \"right\"\r\n",
    "\r\n",
    "    def place_food(self):\r\n",
    "        self.food = [random.randint(1, (YSIZE-2)), random.randint(1, (XSIZE-2))]\r\n",
    "        while (self.food in self.snake):\r\n",
    "            self.food = [random.randint(1, (YSIZE-2)), random.randint(1, (XSIZE-2))]\r\n",
    "        return( self.food )\r\n",
    "    \r\n",
    "    def update_snake_position(self):\r\n",
    "        self.snake.insert(0, [self.snake[0][0] + (self.snake_direction == \"down\" and 1) + (self.snake_direction == \"up\" and -1), self.snake[0][1] + (self.snake_direction == \"left\" and -1) + (self.snake_direction == \"right\" and 1)])\r\n",
    "\r\n",
    "    def food_eaten(self):\r\n",
    "        if self.snake[0] == self.food:                                            # When snake eats the food\r\n",
    "            return True\r\n",
    "        else:    \r\n",
    "            last = self.snake.pop()  # [1] If it does not eat the food, it moves forward and so last tail item is removed\r\n",
    "            return False\r\n",
    "            \r\n",
    "    def snake_turns_into_self(self):\r\n",
    "        if self.snake[0] in self.snake[1:]:\r\n",
    "            return True\r\n",
    "        else:\r\n",
    "            return False\r\n",
    "\r\n",
    "    def snake_hit_wall(self):\r\n",
    "        if self.snake[0][0] == 0 or self.snake[0][0] == (YSIZE-1) or self.snake[0][1] == 0 or self.snake[0][1] == (XSIZE-1):\r\n",
    "            return True\r\n",
    "        else:\r\n",
    "            return False\r\n",
    "\r\n",
    "    # Example sensing functions\r\n",
    "    # def getAheadLocation(self):\r\n",
    "    #     self.ahead = [ self.snake[0][0] + (self.snake_direction == \"down\" and 1) + (self.snake_direction == \"up\" and -1), self.snake[0][1] + (self.snake_direction == \"left\" and -1) + (self.snake_direction == \"right\" and 1)] \r\n",
    "\r\n",
    "    def getUpLocation(self):\r\n",
    "        self.up = [self.snake[0][0] - 1 , self.snake[0][1]]\r\n",
    "        \r\n",
    "    def getDownLocation(self):\r\n",
    "        self.down = [self.snake[0][0] + 1 , self.snake[0][1]]\r\n",
    "\r\n",
    "    def getLeftLocation(self):\r\n",
    "        self.left = [self.snake[0][0], self.snake[0][1] - 1]\r\n",
    "\r\n",
    "    def getRightLocation(self):\r\n",
    "        self.right = [self.snake[0][0], self.snake[0][1] + 1]\r\n",
    "\r\n",
    "    def sense_danger_up(self):\r\n",
    "        self.getUpLocation()\r\n",
    "        return ((self.up[0] == 0 or self.up[0] == (YSIZE-1) or self.up[1] == 0 or self.up[1] == (XSIZE-1)) or self.up in self.snake)\r\n",
    "\r\n",
    "    def sense_danger_down(self):\r\n",
    "        self.getDownLocation()\r\n",
    "        return ((self.down[0] == 0 or self.down[0] == (YSIZE-1) or self.down[1] == 0 or self.down[1] == (XSIZE-1)) or self.down in self.snake)\r\n",
    "\r\n",
    "    def sense_danger_left(self):\r\n",
    "        self.getLeftLocation()\r\n",
    "        return ((self.left[0] == 0 or self.left[0] == (YSIZE-1) or self.left[1] == 0 or self.left[1] == (XSIZE-1)) or self.left in self.snake)\r\n",
    "\r\n",
    "    def sense_danger_right(self):\r\n",
    "        self.getRightLocation()\r\n",
    "        return ((self.right[0] == 0 or self.right[0] == (YSIZE-1) or self.right[1] == 0 or self.right[1] == (XSIZE-1)) or self.right in self.snake)\r\n",
    "        \r\n",
    "\r\n",
    "    def sense_food_up(self):\r\n",
    "        self.getUpLocation()\r\n",
    "        return self.food == self.up\r\n",
    "    \r\n",
    "    def sense_food_down(self):\r\n",
    "        self.getDownLocation()\r\n",
    "        return self.food == self.down\r\n",
    "\r\n",
    "    def sense_food_left(self):\r\n",
    "        self.getLeftLocation()\r\n",
    "        return self.food == self.left\r\n",
    "\r\n",
    "    def sense_food_right(self):\r\n",
    "        self.getRightLocation()\r\n",
    "        return self.food == self.right"
   ],
   "outputs": [],
   "metadata": {}
  },
  {
   "cell_type": "code",
   "execution_count": null,
   "source": [
    "snake_game = snake(XSIZE,YSIZE)"
   ],
   "outputs": [],
   "metadata": {}
  },
  {
   "cell_type": "code",
   "execution_count": null,
   "source": [
    "if not HEADLESS:\r\n",
    "    display = DisplayGame(XSIZE,YSIZE)"
   ],
   "outputs": [],
   "metadata": {}
  },
  {
   "cell_type": "code",
   "execution_count": null,
   "source": [
    "def run_game(display, snake_game, headless, brain):\r\n",
    "\r\n",
    "    score = 0\r\n",
    "    snake_game.reset()\r\n",
    "    if not headless:\r\n",
    "        display.reset(snake_game.snake)\r\n",
    "        display.win.update()\r\n",
    "    snake_game.place_food()\r\n",
    "    game_over = False\r\n",
    "    snake_direction = \"right\"\r\n",
    "\r\n",
    "    time_without_food = 0\r\n",
    "\r\n",
    "    flag = True\r\n",
    "    while not game_over:\r\n",
    "\r\n",
    "        # # ****YOUR AI BELOW HERE******************\r\n",
    "\r\n",
    "        time_without_food += 1\r\n",
    "\r\n",
    "        nn_direction = 0\r\n",
    "\r\n",
    "        if snake_game.snake_direction == \"left\":\r\n",
    "            nn_direction = 0\r\n",
    "        elif snake_game.snake_direction == \"up\":\r\n",
    "            nn_direction = 1\r\n",
    "        elif snake_game.snake_direction == \"right\":\r\n",
    "            nn_direction = 2\r\n",
    "        elif snake_game.snake_direction == \"down\":\r\n",
    "            nn_direction = 3\r\n",
    "\r\n",
    "        output = brain.feedForward([int(snake_game.sense_danger_up()), int(snake_game.sense_danger_down()), int(snake_game.sense_danger_left()), int(snake_game.sense_danger_right()),\r\n",
    "                                    int(snake_game.sense_food_up()), int(snake_game.sense_food_down()), int(snake_game.sense_food_left()), int(snake_game.sense_food_right())])\r\n",
    "\r\n",
    "\r\n",
    "        decision = np.argmax(output, axis=0)\r\n",
    "\r\n",
    "        if decision == 0:\r\n",
    "            new_snake_direction = \"left\"\r\n",
    "        elif decision == 1:\r\n",
    "            new_snake_direction = \"up\"\r\n",
    "        elif decision == 2:\r\n",
    "            new_snake_direction = \"right\"\r\n",
    "        elif decision == 3:\r\n",
    "            new_snake_direction = \"down\"\r\n",
    "        else:\r\n",
    "            new_snake_direction = snake_game.snake_direction\r\n",
    "\r\n",
    "        snake_game.snake_direction = new_snake_direction\r\n",
    "        \r\n",
    "        # # ****YOUR AI ABOVE HERE******************\r\n",
    "            \r\n",
    "        snake_game.update_snake_position()\r\n",
    "\r\n",
    "        # Check if food is eaten\r\n",
    "        if snake_game.food_eaten():\r\n",
    "            time_without_food = 0\r\n",
    "            snake_game.place_food()\r\n",
    "            score += 1\r\n",
    "            if not headless: display.add_snake_segment()\r\n",
    "\r\n",
    "        # Game over if the snake runs over itself\r\n",
    "        if snake_game.snake_turns_into_self():\r\n",
    "            game_over = True\r\n",
    "            print(\"Snake turned into itself!\")\r\n",
    "\r\n",
    "        # Game over if the snake goes through a wall\r\n",
    "        if snake_game.snake_hit_wall():\r\n",
    "            game_over = True\r\n",
    "            print(\"Snake hit a wall!\")\r\n",
    "\r\n",
    "        # Game over if the snake goes without food for 200 turns\r\n",
    "        if time_without_food == 500:\r\n",
    "            game_over = True\r\n",
    "            print(\"Out of food\")\r\n",
    "\r\n",
    "        if not headless:       \r\n",
    "            display.update_food(snake_game.food)\r\n",
    "            display.update_segment_positions(snake_game.snake)\r\n",
    "            display.win.update()\r\n",
    "            time.sleep(0.2) # Change this to modify the speed the game runs at when displayed.\r\n",
    "\r\n",
    "    if not headless: turtle.done()\r\n",
    "\r\n",
    "    return score\r\n"
   ],
   "outputs": [],
   "metadata": {}
  },
  {
   "cell_type": "code",
   "execution_count": null,
   "source": [
    "class MLP(object):\r\n",
    "    def __init__(self, numInput, numHidden1, numHidden2, numHidden3, numOutput):\r\n",
    "        self.fitness = 0\r\n",
    "        self.numInput = numInput + 1 # Add bias node from input to hidden layer 1 only\r\n",
    "        self.numHidden1 = numHidden1 # Feel free to adapt the code to add more biases if you wish\r\n",
    "        self.numHidden2 = numHidden2\r\n",
    "        self.numHidden3 = numHidden3\r\n",
    "        self.numOutput = numOutput\r\n",
    "\r\n",
    "        self.w_i_h1 = np.random.randn(self.numHidden1, self.numInput) \r\n",
    "        self.w_h1_h2 = np.random.randn(self.numHidden2, self.numHidden1)\r\n",
    "        self.w_h2_h3 = np.random.randn(self.numHidden3, self.numHidden2)  \r\n",
    "        self.w_h3_o = np.random.randn(self.numOutput, self.numHidden3)\r\n",
    "\r\n",
    "        self.ReLU = lambda x : max(0,x)\r\n",
    "\r\n",
    "    def softmax(self, x):\r\n",
    "        e_x = np.exp(x - np.max(x))\r\n",
    "        return e_x / e_x.sum()\r\n",
    "    \r\n",
    "    def feedForward(self, inputs):\r\n",
    "        inputsBias = inputs[:]\r\n",
    "        inputsBias.insert(len(inputs),1)             # Add bias input\r\n",
    "\r\n",
    "        h1 = np.dot(self.w_i_h1, inputsBias)         # feed input to hidden layer 1\r\n",
    "        h1 = [self.ReLU(x) for x in h1]              # Activate hidden layer1\r\n",
    "        \r\n",
    "        h2 = np.dot(self.w_h1_h2, h1)                 # feed layer 1 to hidden layer 2\r\n",
    "        h2 = [self.ReLU(x) for x in h2]              # Activate hidden layer 2\r\n",
    "\r\n",
    "        h3 = np.dot(self.w_h2_h3, h2)                 # feed layer 2 to hidden layer 3\r\n",
    "        h3 = [self.ReLU(x) for x in h3]              # Activate hidden layer 3\r\n",
    "\r\n",
    "        output = np.dot(self.w_h3_o, h3)             # feed to output layer\r\n",
    "        return self.softmax(output)\r\n",
    "\r\n",
    "    def getWeightsLinear(self):\r\n",
    "        flat_w_i_h1 = list(self.w_i_h1.flatten())\r\n",
    "        flat_w_h1_h2 = list(self.w_h1_h2.flatten())\r\n",
    "        flat_w_h2_h3 = list(self.w_h2_h3.flatten())\r\n",
    "        flat_w_h3_o = list(self.w_h3_o.flatten())\r\n",
    "        return( flat_w_i_h1 + flat_w_h1_h2 + flat_w_h2_h3 + flat_w_h3_o )\r\n",
    "\r\n",
    "    def setWeightsLinear(self, Wgenome):\r\n",
    "        numWeights_I_H1 = self.numHidden1 * self.numInput\r\n",
    "        numWeights_H1_H2 = self.numHidden2 * self.numHidden1\r\n",
    "        numWeights_H2_H3 = self.numHidden3 * self.numHidden2\r\n",
    "        numWeights_H3_O = self.numOutput * self.numHidden3\r\n",
    "\r\n",
    "        self.w_i_h1 = np.array(Wgenome[:numWeights_I_H1])\r\n",
    "        self.w_i_h1 = self.w_i_h1.reshape((self.numHidden1, self.numInput))\r\n",
    "        \r\n",
    "        self.w_h1_h2 = np.array(Wgenome[numWeights_I_H1:(numWeights_H1_H2+numWeights_I_H1)])\r\n",
    "        self.w_h1_h2 = self.w_h1_h2.reshape((self.numHidden2, self.numHidden1))\r\n",
    "\r\n",
    "        self.w_h2_h3 = np.array(Wgenome[numWeights_H1_H2+numWeights_I_H1:(numWeights_H2_H3+numWeights_H1_H2+numWeights_I_H1)])\r\n",
    "        self.w_h2_h3 = self.w_h2_h3.reshape((self.numHidden3, self.numHidden2))\r\n",
    "\r\n",
    "        self.w_h3_o = np.array(Wgenome[(numWeights_H2_H3+numWeights_H1_H2+numWeights_I_H1):])\r\n",
    "        self.w_h3_o = self.w_h3_o.reshape((self.numOutput, self.numHidden3))"
   ],
   "outputs": [],
   "metadata": {}
  },
  {
   "cell_type": "code",
   "execution_count": null,
   "source": [
    "from deap import base\r\n",
    "from deap import creator\r\n",
    "from deap import tools\r\n",
    "\r\n",
    "from datetime import datetime\r\n",
    "\r\n",
    "import numpy as np"
   ],
   "outputs": [],
   "metadata": {}
  },
  {
   "cell_type": "code",
   "execution_count": null,
   "source": [
    "random_seed = datetime.now()\r\n",
    "random.seed(random_seed) # Set a random seed from the clock\r\n",
    "print(random_seed)\r\n",
    "\r\n",
    "numInputNodes = 8\r\n",
    "numHiddenNodes1 = 8\r\n",
    "numHiddenNodes2 = 6\r\n",
    "numHiddenNodes3 = 6\r\n",
    "numOutputNodes = 4"
   ],
   "outputs": [],
   "metadata": {}
  },
  {
   "cell_type": "code",
   "execution_count": null,
   "source": [
    "brain = MLP(numInputNodes, numHiddenNodes1, numHiddenNodes2, numHiddenNodes3, numOutputNodes)\r\n",
    "IND_SIZE = ((numInputNodes+1) * numHiddenNodes1) + (numHiddenNodes1 * numHiddenNodes2) + (numHiddenNodes2 * numHiddenNodes3) + (numHiddenNodes3 * numOutputNodes)"
   ],
   "outputs": [],
   "metadata": {}
  },
  {
   "cell_type": "code",
   "execution_count": null,
   "source": [
    "creator.create(\"FitnessMax\", base.Fitness, weights=(1.0,))\r\n",
    "creator.create(\"Individual\", list, fitness=creator.FitnessMax)\r\n",
    "\r\n",
    "toolbox = base.Toolbox()\r\n",
    "toolbox.register(\"attr_float\", random.uniform, -1.0, 1.0)\r\n",
    "toolbox.register(\"individual\", tools.initRepeat, creator.Individual,\r\n",
    "                 toolbox.attr_float, n=IND_SIZE)"
   ],
   "outputs": [],
   "metadata": {}
  },
  {
   "cell_type": "code",
   "execution_count": null,
   "source": [
    "def evaluate(indiv, myNet):\r\n",
    "    fitness = 0\r\n",
    "    myNet.setWeightsLinear(indiv)\r\n",
    "    fitness = run_game(display, snake_game, headless=HEADLESS, brain=brain)\r\n",
    "    return fitness,"
   ],
   "outputs": [],
   "metadata": {}
  },
  {
   "cell_type": "code",
   "execution_count": null,
   "source": [
    "toolbox.register(\"evaluate\", evaluate)\r\n",
    "toolbox.register(\"select\", tools.selTournament, tournsize=7)\r\n",
    "\r\n",
    "toolbox.register(\"mate\", tools.cxUniform, 0.25)\r\n",
    "\r\n",
    "toolbox.register(\"mutate\", tools.mutGaussian, mu=0.0, sigma=0.5, indpb=0.01)\r\n",
    "\r\n",
    "toolbox.register(\"population\", tools.initRepeat, list, toolbox.individual)"
   ],
   "outputs": [],
   "metadata": {}
  },
  {
   "cell_type": "code",
   "execution_count": null,
   "source": [
    "# Fitness Sharing!\r\n",
    "\r\n",
    "# For this problem, we know that the Distance will be between 0 (no difference) and the number of genes\r\n",
    "\r\n",
    "def check_distance(s1, s2):\r\n",
    "    return sum((abs(c1 - c2) > 0.3) for c1, c2 in zip(s1, s2))\r\n",
    "\r\n",
    "# Sigma is the minimum distance for sharing\r\n",
    "# Alpha is the sharing parameter for how much to penalize similar solutions\r\n",
    "# With sigma set to 10 we will only penalize our individual for being similar to individuals within a distance of 10\r\n",
    "def sharing(distance, sigma, alpha):\r\n",
    "    res = 0\r\n",
    "    if distance < sigma:\r\n",
    "        res += 1 - (distance/sigma)**alpha\r\n",
    "    return res\r\n",
    "\r\n",
    "def shared_fitness(individual, population, sigma = 10, alpha = 0.1):\r\n",
    "    num = individual.fitness.values[0]\r\n",
    "\r\n",
    "    dists = [check_distance(individual, x) for x in population]  \r\n",
    "    res = [sharing(d, sigma, alpha) for d in dists]\r\n",
    "    den = sum(res)\r\n",
    "\r\n",
    "    return num/den,"
   ],
   "outputs": [],
   "metadata": {}
  },
  {
   "cell_type": "code",
   "execution_count": null,
   "source": [
    "stats = tools.Statistics(key=lambda ind: ind.fitness.values)\r\n",
    "stats.register(\"avg\", np.mean)\r\n",
    "stats.register(\"std\", np.std)\r\n",
    "stats.register(\"min\", np.min)\r\n",
    "stats.register(\"max\", np.max)"
   ],
   "outputs": [],
   "metadata": {}
  },
  {
   "cell_type": "code",
   "execution_count": null,
   "source": [
    "logbook = tools.Logbook()\r\n",
    "\r\n",
    "pop = toolbox.population(n=100)\r\n",
    "\r\n",
    "fitnesses = [toolbox.evaluate(indiv, brain) for indiv in pop]\r\n",
    "for ind, fit in zip(pop, fitnesses):\r\n",
    "    ind.fitness.values = fit"
   ],
   "outputs": [],
   "metadata": {
    "tags": []
   }
  },
  {
   "cell_type": "code",
   "execution_count": null,
   "source": [
    "NGEN, CXPROB = 100, 0.0\r\n",
    "\r\n",
    "for g in range(NGEN):\r\n",
    "    print(\"-- Generation %i --\" % g)\r\n",
    "      \r\n",
    "    offspring = toolbox.select(pop, len(pop))\r\n",
    "    offspring = list(map(toolbox.clone, offspring))\r\n",
    "\r\n",
    "    for mutant in offspring:\r\n",
    "        toolbox.mutate(mutant)\r\n",
    "        del mutant.fitness.values\r\n",
    "          \r\n",
    "    invalid_ind = [ind for ind in offspring if not ind.fitness.valid]\r\n",
    "    fitnesses = [toolbox.evaluate(indiv, brain) for indiv in invalid_ind]\r\n",
    "    for ind, fit in zip(invalid_ind, fitnesses):\r\n",
    "         ind.fitness.values = fit\r\n",
    "   \r\n",
    "    pop[:] = offspring\r\n",
    "    record = stats.compile(pop)\r\n",
    "    logbook.record(gen=g, **record)"
   ],
   "outputs": [],
   "metadata": {
    "tags": []
   }
  },
  {
   "cell_type": "code",
   "execution_count": null,
   "source": [
    "import matplotlib.pyplot as plt\r\n",
    "%matplotlib inline\r\n",
    "\r\n",
    "gen = logbook.select(\"gen\")\r\n",
    "_min = logbook.select(\"min\")\r\n",
    "_max = logbook.select(\"max\")\r\n",
    "avgs = logbook.select(\"avg\")\r\n",
    "stds = logbook.select(\"std\")"
   ],
   "outputs": [],
   "metadata": {}
  },
  {
   "cell_type": "code",
   "execution_count": null,
   "source": [
    "plt.rc('axes', labelsize=14)\r\n",
    "plt.rc('xtick', labelsize=14)\r\n",
    "plt.rc('ytick', labelsize=14) \r\n",
    "plt.rc('legend', fontsize=14)\r\n",
    "\r\n",
    "fig1, ax1 = plt.subplots()\r\n",
    "line1 = ax1.plot(gen, avgs)\r\n",
    "line2 = ax1.plot(gen, _max)\r\n",
    "ax1.set_xlabel(\"Generation\")\r\n",
    "ax1.set_ylabel(\"Mean Fitness\")\r\n",
    "\r\n",
    "fig2, ax2 = plt.subplots()\r\n",
    "line2 = ax2.plot(gen, _max)\r\n",
    "ax2.set_xlabel(\"Generation\")\r\n",
    "ax2.set_ylabel(\"Max Fitness\")\r\n",
    "\r\n",
    "print(avgs[-5:-1])"
   ],
   "outputs": [],
   "metadata": {}
  },
  {
   "cell_type": "markdown",
   "source": [
    "Below is what you would use for your evaluation. You would also use it to display your final (pickled and loaded) solution, with headless = False."
   ],
   "metadata": {}
  },
  {
   "cell_type": "markdown",
   "source": [
    "If you have run without headless (i.e. with the display) you will need to reset your kernel to run again. This appears to be an IPython issue with Turtle, but if you have a way to deal with that, do please let me know. You will probable only want to run it one-at-a-time anyway."
   ],
   "metadata": {}
  },
  {
   "cell_type": "code",
   "execution_count": null,
   "source": [
    "bestInd = tools.selBest(pop, 1)[0]"
   ],
   "outputs": [],
   "metadata": {}
  },
  {
   "cell_type": "code",
   "execution_count": null,
   "source": [
    "brain.setWeightsLinear(bestInd)"
   ],
   "outputs": [],
   "metadata": {}
  },
  {
   "cell_type": "code",
   "execution_count": null,
   "source": [
    "score = run_game(display,snake_game, headless=HEADLESS, brain=brain)"
   ],
   "outputs": [],
   "metadata": {}
  },
  {
   "cell_type": "code",
   "execution_count": null,
   "source": [
    "print(score)"
   ],
   "outputs": [],
   "metadata": {}
  }
 ],
 "metadata": {
  "kernelspec": {
   "name": "python3",
   "display_name": "Python 3.8.8 64-bit"
  },
  "language_info": {
   "codemirror_mode": {
    "name": "ipython",
    "version": 3
   },
   "file_extension": ".py",
   "mimetype": "text/x-python",
   "name": "python",
   "nbconvert_exporter": "python",
   "pygments_lexer": "ipython3",
   "version": "3.8.8"
  },
  "metadata": {
   "interpreter": {
    "hash": "b44c442a48bae290707df8e087ea8d315928ef76bfe5cc4dd19c6d12ddaf7fa6"
   }
  },
  "interpreter": {
   "hash": "b44c442a48bae290707df8e087ea8d315928ef76bfe5cc4dd19c6d12ddaf7fa6"
  }
 },
 "nbformat": 4,
 "nbformat_minor": 4
}